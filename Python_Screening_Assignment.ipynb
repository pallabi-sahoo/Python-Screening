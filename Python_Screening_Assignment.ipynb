{
 "cells": [
  {
   "cell_type": "markdown",
   "id": "54e5d454",
   "metadata": {},
   "source": [
    "## Python Screening Assignment"
   ]
  },
  {
   "cell_type": "markdown",
   "id": "cefa3e60",
   "metadata": {},
   "source": [
    "#### 1. Create a function in python to read the text file and replace specific content of the file."
   ]
  },
  {
   "cell_type": "code",
   "execution_count": 1,
   "id": "1a8b8975",
   "metadata": {},
   "outputs": [],
   "source": [
    "## create the text file.\n",
    "f=open('example.txt','w')"
   ]
  },
  {
   "cell_type": "code",
   "execution_count": 2,
   "id": "a47a4dd0",
   "metadata": {},
   "outputs": [
    {
     "data": {
      "text/plain": [
       "30"
      ]
     },
     "execution_count": 2,
     "metadata": {},
     "output_type": "execute_result"
    }
   ],
   "source": [
    "f.write('This is a placement assignment')"
   ]
  },
  {
   "cell_type": "code",
   "execution_count": 3,
   "id": "991a1c8e",
   "metadata": {},
   "outputs": [],
   "source": [
    "f.close()"
   ]
  },
  {
   "cell_type": "code",
   "execution_count": 4,
   "id": "dae886a6",
   "metadata": {},
   "outputs": [
    {
     "name": "stdout",
     "output_type": "stream",
     "text": [
      "This is a placement assignment\n"
     ]
    }
   ],
   "source": [
    "def replace_string():\n",
    "    \"\"\"this function will replace the string in a text file\"\"\"\n",
    "    # open the file in read and write mode\n",
    "    f=open('example.txt','r+')\n",
    "    # read the file contents declare to a variable\n",
    "    a=f.read()\n",
    "    print(a)\n",
    "    # replacing the string\n",
    "    a=a.replace('placement','screening')\n",
    "    #moving the position to zero\n",
    "    f.seek(0)\n",
    "    #overrite the input file with the replaced string\n",
    "    f.write(a)\n",
    "    #close the file\n",
    "    f.close()\n",
    "    \n",
    "#define the function \n",
    "replace_string()"
   ]
  },
  {
   "cell_type": "markdown",
   "id": "190c88df",
   "metadata": {},
   "source": [
    "#### 2. Demonstrate use of abstract class, multiple inheritance and decorator in python using examples."
   ]
  },
  {
   "cell_type": "markdown",
   "id": "85566e0f",
   "metadata": {},
   "source": [
    "### Abstract class\n",
    "A class which contains one or more abstract method is called an abstract class. An abstract method is a method that has a declaration but does not have an implementation. While we need to design large functional units we can use abstract class. It can be considered as a blueprint for other classes."
   ]
  },
  {
   "cell_type": "code",
   "execution_count": 5,
   "id": "09d92c5c",
   "metadata": {},
   "outputs": [
    {
     "name": "stdout",
     "output_type": "stream",
     "text": [
      "Welcome to State Bank Of India\n",
      "Your SBI bank balance is 50,000\n",
      "In SBI there is 5% inetrest\n"
     ]
    }
   ],
   "source": [
    "from abc import abstractmethod\n",
    "# abstract class\n",
    "class BANK:\n",
    "    def bank_info(self):\n",
    "        print('Welcome to State Bank Of India')\n",
    "    @abstractmethod\n",
    "    def acc_balance(self):\n",
    "        pass\n",
    "    @abstractmethod\n",
    "    def interest(self):\n",
    "        pass\n",
    "    \n",
    "#child class of abstract class\n",
    "class SBI(BANK):\n",
    "    def acc_balance(self):\n",
    "        print('Your SBI bank balance is 50,000')\n",
    "    def interest(self):\n",
    "        print('In SBI there is 5% inetrest')\n",
    "\n",
    "obj=SBI()\n",
    "obj.bank_info()\n",
    "obj.acc_balance()\n",
    "obj.interest()"
   ]
  },
  {
   "cell_type": "markdown",
   "id": "b6835eb2",
   "metadata": {},
   "source": [
    "### Multiple Inheritence\n",
    "\n",
    "Multiple Inheritence is an Object oriented programming system concept where one class(child/sub class) inherite all the features or properties from more than one parent/base class."
   ]
  },
  {
   "cell_type": "code",
   "execution_count": 6,
   "id": "d76b79bc",
   "metadata": {},
   "outputs": [
    {
     "name": "stdout",
     "output_type": "stream",
     "text": [
      "Course Name :  B.Tech\n",
      "Branch Name:  Computer Science and Engineering\n"
     ]
    }
   ],
   "source": [
    "## Multiple Inheritence\n",
    "\n",
    "# parent class1\n",
    "class course:\n",
    "    course_name = \"\"\n",
    "    def coursename(self):\n",
    "        print(self.course_name)\n",
    "\n",
    "# parent class 2\n",
    "class Branch:\n",
    "    branchname = \"\"\n",
    "    def branch(self):\n",
    "        print(self.branchname)\n",
    "        \n",
    "#child class\n",
    "class student(course, Branch):\n",
    "    def prnt(self):\n",
    "        print('Course Name : ',self.course_name)\n",
    "        print('Branch Name: ', self.branchname)\n",
    "\n",
    "# child class declaration\n",
    "s=student()\n",
    "s.course_name='B.Tech'\n",
    "s.branchname='Computer Science and Engineering'\n",
    "s.prnt()"
   ]
  },
  {
   "cell_type": "markdown",
   "id": "1e477981",
   "metadata": {},
   "source": [
    "### Decorator\n",
    "\n",
    "Decorator in python used to modify the behaviour of the function. It provide the flexibility to wrap another function to expand the working of wrapped function, without permanently modifying it. \n",
    "\n",
    "In decorators function are passed as an argument into another function and then called inside the wrapper function."
   ]
  },
  {
   "cell_type": "code",
   "execution_count": 7,
   "id": "cc85b98e",
   "metadata": {},
   "outputs": [
    {
     "name": "stdout",
     "output_type": "stream",
     "text": [
      " HI, I HAVE CREATED A DECORATOR. \n",
      " hi, i have created a decorator. \n"
     ]
    }
   ],
   "source": [
    "def Upp(text):\n",
    "    return text.upper()\n",
    "    \n",
    "def Low(text):\n",
    "    return text.lower()\n",
    "    \n",
    "## passing a function as an argument to another function\n",
    "def res(func):\n",
    "    txt=func(\" Hi, I have created a decorator. \")\n",
    "    print(txt)\n",
    "    \n",
    "res(Upp)\n",
    "res(Low)"
   ]
  },
  {
   "cell_type": "code",
   "execution_count": null,
   "id": "1deee8f7",
   "metadata": {},
   "outputs": [],
   "source": []
  }
 ],
 "metadata": {
  "kernelspec": {
   "display_name": "Python 3 (ipykernel)",
   "language": "python",
   "name": "python3"
  },
  "language_info": {
   "codemirror_mode": {
    "name": "ipython",
    "version": 3
   },
   "file_extension": ".py",
   "mimetype": "text/x-python",
   "name": "python",
   "nbconvert_exporter": "python",
   "pygments_lexer": "ipython3",
   "version": "3.9.7"
  }
 },
 "nbformat": 4,
 "nbformat_minor": 5
}
